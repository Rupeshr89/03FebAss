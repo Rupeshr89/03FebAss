{
 "cells": [
  {
   "cell_type": "markdown",
   "id": "8ba0841f-06cb-4fcc-90c3-e1e946c2438c",
   "metadata": {},
   "source": [
    "### 1.Q1. Which keyword is used to create a function? Create a function to return a list of odd numbers in the range of 1 to 25."
   ]
  },
  {
   "cell_type": "code",
   "execution_count": null,
   "id": "d0b9275a-4b42-43bd-b820-e33106ca1a77",
   "metadata": {},
   "outputs": [],
   "source": [
    "def keyword is used to create a function in Python."
   ]
  },
  {
   "cell_type": "code",
   "execution_count": 1,
   "id": "f592e5f5-53d0-4f48-af05-c8394becd439",
   "metadata": {},
   "outputs": [],
   "source": [
    "def odd_number(a):\n",
    "    return [i for i in range(a+1) if i % 2 == 1]"
   ]
  },
  {
   "cell_type": "code",
   "execution_count": 2,
   "id": "559b868b-331e-4d20-acda-748af252c459",
   "metadata": {},
   "outputs": [
    {
     "data": {
      "text/plain": [
       "[1, 3, 5, 7, 9, 11, 13, 15, 17, 19, 21, 23, 25]"
      ]
     },
     "execution_count": 2,
     "metadata": {},
     "output_type": "execute_result"
    }
   ],
   "source": [
    "odd_number(25)"
   ]
  },
  {
   "cell_type": "markdown",
   "id": "27c1e868-7ad5-4f79-80fa-feb9a6488d8d",
   "metadata": {},
   "source": [
    "### Q2. Why *args and **kwargs is used in some functions? Create a function each for *args and **kwargs to demonstrate their use."
   ]
  },
  {
   "cell_type": "code",
   "execution_count": null,
   "id": "1923f496-ea84-46f9-b467-d1b2f5d0e177",
   "metadata": {},
   "outputs": [],
   "source": [
    "*args and **kwargs is used in some function as argument of a function when we are not sure about the\n",
    "number of arguement pass in the functions."
   ]
  },
  {
   "cell_type": "code",
   "execution_count": 3,
   "id": "b4354a54-35f6-4441-b90e-e2a654c4d790",
   "metadata": {},
   "outputs": [],
   "source": [
    "## function for *args"
   ]
  },
  {
   "cell_type": "code",
   "execution_count": 5,
   "id": "8f7cf0fe-1777-4db9-bdc9-404522b5ec9c",
   "metadata": {},
   "outputs": [],
   "source": [
    "def test1(*args):\n",
    "    a=[]\n",
    "    for i in args:\n",
    "        if type(i)== str:\n",
    "            a.append(i)\n",
    "            return a\n",
    "    "
   ]
  },
  {
   "cell_type": "code",
   "execution_count": 6,
   "id": "baf2c706-7b84-456a-a949-3a5da2222ada",
   "metadata": {},
   "outputs": [
    {
     "data": {
      "text/plain": [
       "['Pwskills']"
      ]
     },
     "execution_count": 6,
     "metadata": {},
     "output_type": "execute_result"
    }
   ],
   "source": [
    "test1([1,2,3,4,5],\"Pwskills\",23.45,23)"
   ]
  },
  {
   "cell_type": "code",
   "execution_count": 7,
   "id": "890dffb4-bdba-4c81-8af8-b2441e1917fa",
   "metadata": {},
   "outputs": [],
   "source": [
    "## function for **kwargs"
   ]
  },
  {
   "cell_type": "code",
   "execution_count": 8,
   "id": "a4827836-e941-4a64-9ceb-1c017b70bfd5",
   "metadata": {},
   "outputs": [],
   "source": [
    "def test2(**kwargs):\n",
    "    for i in kwargs.keys():\n",
    "        if type(kwargs[i])== list:\n",
    "            return i,kwargs[i]\n",
    "    "
   ]
  },
  {
   "cell_type": "code",
   "execution_count": 9,
   "id": "8a35e56d-b595-49a5-a3a6-f0f8a6d73292",
   "metadata": {},
   "outputs": [
    {
     "data": {
      "text/plain": [
       "('b', [1, 2, 3, 4])"
      ]
     },
     "execution_count": 9,
     "metadata": {},
     "output_type": "execute_result"
    }
   ],
   "source": [
    "test2(a=34,b=[1,2,3,4],c=\"Pwskills\",d=2.3)"
   ]
  },
  {
   "cell_type": "markdown",
   "id": "55d415fc-f386-4985-8321-ca0326295388",
   "metadata": {},
   "source": [
    "### Q3. What is an iterator in python? Name the method used to initialise the iterator object and the method used for iteration. Use these methods to print the first five elements of the given \n",
    "list [2, 4, 6, 8, 10, 12, 14, 16,18, 20]."
   ]
  },
  {
   "cell_type": "code",
   "execution_count": null,
   "id": "d54ed124-eaad-4f43-b6cf-c2b61243e2a4",
   "metadata": {},
   "outputs": [],
   "source": [
    "An Iterator is an object that can be used to loop through collections. That means iterator is used for iterate the\n",
    "value from the collection."
   ]
  },
  {
   "cell_type": "code",
   "execution_count": null,
   "id": "890a5a2a-dd82-4a98-91ea-1f8a18cc7145",
   "metadata": {},
   "outputs": [],
   "source": [
    "To initialise the iterator object we use iter() method and for iteration we use next() method in Python. "
   ]
  },
  {
   "cell_type": "code",
   "execution_count": 4,
   "id": "889c7c91-c6f0-41bf-b0ab-bfbdfe2ce69e",
   "metadata": {},
   "outputs": [],
   "source": [
    "lst=[2, 4, 6, 8, 10, 12, 14, 16,18, 20]"
   ]
  },
  {
   "cell_type": "code",
   "execution_count": 5,
   "id": "a0f4fa9f-d036-4d7c-91e8-b208d51c664a",
   "metadata": {},
   "outputs": [
    {
     "data": {
      "text/plain": [
       "[2, 4, 6, 8, 10, 12, 14, 16, 18, 20]"
      ]
     },
     "execution_count": 5,
     "metadata": {},
     "output_type": "execute_result"
    }
   ],
   "source": [
    "lst"
   ]
  },
  {
   "cell_type": "code",
   "execution_count": 8,
   "id": "62b37d3e-49ae-44bc-a62c-6558a520cf9a",
   "metadata": {},
   "outputs": [
    {
     "name": "stdout",
     "output_type": "stream",
     "text": [
      "2\n",
      "4\n",
      "6\n",
      "8\n",
      "10\n"
     ]
    }
   ],
   "source": [
    "it =iter(lst)\n",
    "print(next(it))\n",
    "print(next(it))\n",
    "print(next(it))\n",
    "print(next(it))\n",
    "print(next(it))"
   ]
  },
  {
   "cell_type": "code",
   "execution_count": null,
   "id": "652eaa0d-3d97-4c39-b756-b056b87a4307",
   "metadata": {},
   "outputs": [],
   "source": [
    "We can use __next__() method also for iteration."
   ]
  },
  {
   "cell_type": "markdown",
   "id": "f96b8871-036c-4672-99f7-a07b2f0977a9",
   "metadata": {},
   "source": [
    "### Q4. What is a generator function in python? Why yield keyword is used? Give an example of a generator function."
   ]
  },
  {
   "cell_type": "code",
   "execution_count": null,
   "id": "c69c541a-a821-4598-b613-523e4876e524",
   "metadata": {},
   "outputs": [],
   "source": [
    "Generators are that function which are useful when we want to produce a large sequence of values, but we don't\n",
    "want to store all of them in memory at once."
   ]
  },
  {
   "cell_type": "code",
   "execution_count": null,
   "id": "97f33801-2d58-49f9-9c69-3fe7ea876eb2",
   "metadata": {},
   "outputs": [],
   "source": [
    "The yield keyword in Python controls the flow of a generator function. This is similar to a return statement\n",
    "which is used for returning values in Python."
   ]
  },
  {
   "cell_type": "code",
   "execution_count": 17,
   "id": "9ffe16e3-4aa4-467b-86d3-8174e8f9e6e8",
   "metadata": {},
   "outputs": [],
   "source": [
    "def number(a):\n",
    "    for i in range(a):\n",
    "        yield a\n",
    "        a=a+1"
   ]
  },
  {
   "cell_type": "code",
   "execution_count": 18,
   "id": "3231f69e-d5bf-466e-9579-0639e8d5c992",
   "metadata": {},
   "outputs": [
    {
     "data": {
      "text/plain": [
       "<generator object number at 0x7fd79846e880>"
      ]
     },
     "execution_count": 18,
     "metadata": {},
     "output_type": "execute_result"
    }
   ],
   "source": [
    "number(5)"
   ]
  },
  {
   "cell_type": "code",
   "execution_count": 19,
   "id": "68e21152-332e-4d68-a0cc-0c807550d534",
   "metadata": {},
   "outputs": [
    {
     "name": "stdout",
     "output_type": "stream",
     "text": [
      "5\n",
      "6\n",
      "7\n",
      "8\n",
      "9\n"
     ]
    }
   ],
   "source": [
    "for i in number(5):\n",
    "    print(i)"
   ]
  },
  {
   "cell_type": "markdown",
   "id": "101a3fc3-329a-4280-bd5e-74994c12396f",
   "metadata": {},
   "source": [
    "### Q5. Create a generator function for prime numbers less than 1000. Use the next() method to print the first 20 prime numbers."
   ]
  },
  {
   "cell_type": "code",
   "execution_count": 21,
   "id": "68d2b8e0-4545-4ff0-abe5-37eccd5e5ebc",
   "metadata": {},
   "outputs": [
    {
     "name": "stdout",
     "output_type": "stream",
     "text": [
      "2 \n",
      "3 \n",
      "5 \n",
      "7 \n",
      "11 \n",
      "13 \n",
      "17 \n",
      "19 \n",
      "23 \n",
      "29 \n",
      "31 \n",
      "37 \n",
      "41 \n",
      "43 \n",
      "47 \n",
      "53 \n",
      "59 \n",
      "61 \n",
      "67 \n",
      "71 \n",
      "73 \n",
      "79 \n",
      "83 \n",
      "89 \n",
      "97\n"
     ]
    }
   ],
   "source": [
    "def is_prime(n):\n",
    "    status = True\n",
    "    if n < 2:\n",
    "        status = False\n",
    "    else:\n",
    "        for i in range(2,n):\n",
    "            if n % i == 0:\n",
    "                status = False\n",
    "    return status\n",
    "\n",
    "for n in range(1,101):\n",
    "    if is_prime(n):\n",
    "        if n==97:\n",
    "            print(n)\n",
    "        else:\n",
    "            print(n,\"\")"
   ]
  },
  {
   "cell_type": "code",
   "execution_count": 22,
   "id": "9cd7af67-7373-4b72-9c46-864c9352f9b6",
   "metadata": {},
   "outputs": [],
   "source": [
    "## Example of using next() method to print the first 20 prime number."
   ]
  },
  {
   "cell_type": "code",
   "execution_count": null,
   "id": "ae8e48c7-6b5a-4bba-a448-71add8489f3c",
   "metadata": {},
   "outputs": [],
   "source": [
    "primes=iter(is_prime())\n",
    "print"
   ]
  },
  {
   "cell_type": "markdown",
   "id": "e83338fa-2ecb-4ec1-85bf-80818151b67b",
   "metadata": {},
   "source": [
    "### Q.6 Write a program to print the first 10 fibonacci numbers using a while loop."
   ]
  },
  {
   "cell_type": "code",
   "execution_count": 4,
   "id": "4e6d2136-6c71-479d-9675-8a0c7a6ecc6c",
   "metadata": {},
   "outputs": [
    {
     "name": "stdin",
     "output_type": "stream",
     "text": [
      "Enter the number of element you looking for fibonacci series 10\n"
     ]
    },
    {
     "name": "stdout",
     "output_type": "stream",
     "text": [
      "0\n",
      "1\n",
      "1\n",
      "2\n",
      "3\n",
      "5\n",
      "8\n",
      "13\n",
      "21\n",
      "34\n"
     ]
    }
   ],
   "source": [
    "num1=int(input(\"Enter the number of element you looking for fibonacci series\"))\n",
    "a,b=0,1\n",
    "counter=0\n",
    "while counter<num1:\n",
    "    print(a)\n",
    "    c=a+b\n",
    "    a=b\n",
    "    b=c\n",
    "    counter+=1"
   ]
  },
  {
   "cell_type": "markdown",
   "id": "938980fe-ff48-4e73-ae6a-928402470197",
   "metadata": {},
   "source": [
    "### Q.7 Write a list comprehension to iterate through the given string:\"pwskills\"."
   ]
  },
  {
   "cell_type": "code",
   "execution_count": 5,
   "id": "565cb551-4371-4a8f-9870-6e5ae1d592fd",
   "metadata": {},
   "outputs": [],
   "source": [
    "test=\"pwskills\"\n"
   ]
  },
  {
   "cell_type": "code",
   "execution_count": 6,
   "id": "5361e3ef-dc2f-454b-b81a-9ac296651886",
   "metadata": {},
   "outputs": [
    {
     "data": {
      "text/plain": [
       "'pwskills'"
      ]
     },
     "execution_count": 6,
     "metadata": {},
     "output_type": "execute_result"
    }
   ],
   "source": [
    "test"
   ]
  },
  {
   "cell_type": "code",
   "execution_count": 8,
   "id": "e993e152-2d95-4d47-be4c-f8d8e4ad9e02",
   "metadata": {},
   "outputs": [
    {
     "data": {
      "text/plain": [
       "['p', 'w', 's', 'k', 'i', 'l', 'l', 's']"
      ]
     },
     "execution_count": 8,
     "metadata": {},
     "output_type": "execute_result"
    }
   ],
   "source": [
    "[i for i in test]"
   ]
  },
  {
   "cell_type": "markdown",
   "id": "3994de56-5494-4bbe-895f-7044d6548556",
   "metadata": {},
   "source": [
    "### Write a python program to check the given number is palindrome or not using while loop."
   ]
  },
  {
   "cell_type": "code",
   "execution_count": 2,
   "id": "025a4074-cdaf-4fb3-8f8c-1f7735dc0df9",
   "metadata": {},
   "outputs": [
    {
     "name": "stdin",
     "output_type": "stream",
     "text": [
      "Enter your number 123\n"
     ]
    },
    {
     "name": "stdout",
     "output_type": "stream",
     "text": [
      "123 is not a Palindrome\n"
     ]
    }
   ],
   "source": [
    "num=int(input(\"Enter your number\"))\n",
    "reverse = 0\n",
    "number = num\n",
    "while(num != 0):\n",
    "    remainder = num % 10\n",
    "    reverse = reverse * 10 + remainder\n",
    "    num = int(num / 10)\n",
    "\n",
    "if(number == reverse):\n",
    "    print(number,'is a Palindrome')\n",
    "else:\n",
    "    print(number,'is not a Palindrome')"
   ]
  },
  {
   "cell_type": "markdown",
   "id": "c8b73f43-05c3-46b2-97e2-e5acc57d13d7",
   "metadata": {},
   "source": [
    "### Q.9 Write a python program to print odd number form 1 to 100 using list comprehension."
   ]
  },
  {
   "cell_type": "code",
   "execution_count": 4,
   "id": "3c03181a-b5c0-46c5-b26c-cd23a5325c88",
   "metadata": {},
   "outputs": [],
   "source": [
    "odd=[i for i in range(100) if i %2 !=0]"
   ]
  },
  {
   "cell_type": "code",
   "execution_count": 5,
   "id": "6e168bb7-85c5-4ce2-9208-6e212c253a1c",
   "metadata": {},
   "outputs": [
    {
     "data": {
      "text/plain": [
       "[1,\n",
       " 3,\n",
       " 5,\n",
       " 7,\n",
       " 9,\n",
       " 11,\n",
       " 13,\n",
       " 15,\n",
       " 17,\n",
       " 19,\n",
       " 21,\n",
       " 23,\n",
       " 25,\n",
       " 27,\n",
       " 29,\n",
       " 31,\n",
       " 33,\n",
       " 35,\n",
       " 37,\n",
       " 39,\n",
       " 41,\n",
       " 43,\n",
       " 45,\n",
       " 47,\n",
       " 49,\n",
       " 51,\n",
       " 53,\n",
       " 55,\n",
       " 57,\n",
       " 59,\n",
       " 61,\n",
       " 63,\n",
       " 65,\n",
       " 67,\n",
       " 69,\n",
       " 71,\n",
       " 73,\n",
       " 75,\n",
       " 77,\n",
       " 79,\n",
       " 81,\n",
       " 83,\n",
       " 85,\n",
       " 87,\n",
       " 89,\n",
       " 91,\n",
       " 93,\n",
       " 95,\n",
       " 97,\n",
       " 99]"
      ]
     },
     "execution_count": 5,
     "metadata": {},
     "output_type": "execute_result"
    }
   ],
   "source": [
    "odd"
   ]
  },
  {
   "cell_type": "code",
   "execution_count": 8,
   "id": "504069ca-193f-4a32-9c4e-ae352aac7ce7",
   "metadata": {},
   "outputs": [],
   "source": [
    "from functools import reduce"
   ]
  },
  {
   "cell_type": "code",
   "execution_count": 9,
   "id": "56589449-db23-4977-916e-9fcfcd9613b9",
   "metadata": {},
   "outputs": [
    {
     "name": "stdout",
     "output_type": "stream",
     "text": [
      "120\n"
     ]
    }
   ],
   "source": [
    "numbers = [1, 2, 3, 4, 5]\n",
    "\n",
    "product = reduce(lambda x, y: x*y, numbers)\n",
    "\n",
    "print(product)"
   ]
  },
  {
   "cell_type": "code",
   "execution_count": null,
   "id": "4ba3f97c-6861-44b5-961e-2633b7c8c63c",
   "metadata": {},
   "outputs": [],
   "source": []
  }
 ],
 "metadata": {
  "kernelspec": {
   "display_name": "Python 3 (ipykernel)",
   "language": "python",
   "name": "python3"
  },
  "language_info": {
   "codemirror_mode": {
    "name": "ipython",
    "version": 3
   },
   "file_extension": ".py",
   "mimetype": "text/x-python",
   "name": "python",
   "nbconvert_exporter": "python",
   "pygments_lexer": "ipython3",
   "version": "3.10.8"
  }
 },
 "nbformat": 4,
 "nbformat_minor": 5
}
