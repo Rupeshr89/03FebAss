{
 "cells": [
  {
   "cell_type": "markdown",
   "id": "310b7a6b-271e-4e64-a656-1222de64eb93",
   "metadata": {},
   "source": [
    "### 1.Q1. Which keyword is used to create a function? Create a function to return a list of odd numbers in the range of 1 to 25."
   ]
  },
  {
   "cell_type": "code",
   "execution_count": null,
   "id": "cd846d0c-0061-49c2-bf1d-01d04f9db122",
   "metadata": {},
   "outputs": [],
   "source": [
    "def keyword is used to create a function in Python."
   ]
  },
  {
   "cell_type": "code",
   "execution_count": 1,
   "id": "3f7bb2f1-8da7-4c50-a748-8004c4ccfb03",
   "metadata": {},
   "outputs": [],
   "source": [
    "def odd_number(a):\n",
    "    return [i for i in range(a+1) if i % 2 == 1]"
   ]
  },
  {
   "cell_type": "code",
   "execution_count": 2,
   "id": "e1d0f23a-3eb8-4a2e-9499-fb3fcf9949e9",
   "metadata": {},
   "outputs": [
    {
     "data": {
      "text/plain": [
       "[1, 3, 5, 7, 9, 11, 13, 15, 17, 19, 21, 23, 25]"
      ]
     },
     "execution_count": 2,
     "metadata": {},
     "output_type": "execute_result"
    }
   ],
   "source": [
    "odd_number(25)"
   ]
  },
  {
   "cell_type": "markdown",
   "id": "1f408398-a8f7-4dbc-b495-177a5615d293",
   "metadata": {},
   "source": [
    "### Q2. Why *args and **kwargs is used in some functions? Create a function each for *args and **kwargs to demonstrate their use."
   ]
  },
  {
   "cell_type": "code",
   "execution_count": null,
   "id": "45f18489-9351-4e82-a37c-212feac449e2",
   "metadata": {},
   "outputs": [],
   "source": [
    "*args and **kwargs is used in some function as argument of a function when we are not sure about the\n",
    "number of arguement pass in the functions."
   ]
  },
  {
   "cell_type": "code",
   "execution_count": 3,
   "id": "81f0c502-5418-4a8f-a9fa-1b10c04dda03",
   "metadata": {},
   "outputs": [],
   "source": [
    "## function for *args"
   ]
  },
  {
   "cell_type": "code",
   "execution_count": 5,
   "id": "93645532-c175-428f-8448-f2539c952b55",
   "metadata": {},
   "outputs": [],
   "source": [
    "def test1(*args):\n",
    "    a=[]\n",
    "    for i in args:\n",
    "        if type(i)== str:\n",
    "            a.append(i)\n",
    "            return a\n",
    "    "
   ]
  },
  {
   "cell_type": "code",
   "execution_count": 6,
   "id": "4b64d373-a8ac-4b31-acef-a2b83f404eb5",
   "metadata": {},
   "outputs": [
    {
     "data": {
      "text/plain": [
       "['Pwskills']"
      ]
     },
     "execution_count": 6,
     "metadata": {},
     "output_type": "execute_result"
    }
   ],
   "source": [
    "test1([1,2,3,4,5],\"Pwskills\",23.45,23)"
   ]
  },
  {
   "cell_type": "code",
   "execution_count": 7,
   "id": "5a1e343b-cf7a-4378-9bd6-1354cb3e25cf",
   "metadata": {},
   "outputs": [],
   "source": [
    "## function for **kwargs"
   ]
  },
  {
   "cell_type": "code",
   "execution_count": 8,
   "id": "45ffb6ff-4c6c-4303-8cb6-b483773802c6",
   "metadata": {},
   "outputs": [],
   "source": [
    "def test2(**kwargs):\n",
    "    for i in kwargs.keys():\n",
    "        if type(kwargs[i])== list:\n",
    "            return i,kwargs[i]\n",
    "    "
   ]
  },
  {
   "cell_type": "code",
   "execution_count": 9,
   "id": "0e4f26fa-18a3-42f4-8a94-f2103a1d0ea8",
   "metadata": {},
   "outputs": [
    {
     "data": {
      "text/plain": [
       "('b', [1, 2, 3, 4])"
      ]
     },
     "execution_count": 9,
     "metadata": {},
     "output_type": "execute_result"
    }
   ],
   "source": [
    "test2(a=34,b=[1,2,3,4],c=\"Pwskills\",d=2.3)"
   ]
  },
  {
   "cell_type": "markdown",
   "id": "f35dd68e-7e9c-4791-a2cf-8f90c2073152",
   "metadata": {},
   "source": [
    "### Q3. What is an iterator in python? Name the method used to initialise the iterator object and the method used for iteration. Use these methods to print the first five elements of the given \n",
    "list [2, 4, 6, 8, 10, 12, 14, 16,18, 20]."
   ]
  },
  {
   "cell_type": "code",
   "execution_count": null,
   "id": "908754df-937e-49b8-8b44-eda23b8dc68b",
   "metadata": {},
   "outputs": [],
   "source": [
    "An Iterator is an object that can be used to loop through collections. That means iterator is used for iterate the\n",
    "value from the collection."
   ]
  },
  {
   "cell_type": "code",
   "execution_count": null,
   "id": "9f22d6c0-a988-4593-9b9c-af9293e7be6e",
   "metadata": {},
   "outputs": [],
   "source": [
    "To initialise the iterator object we use iter() method and for iteration we use next() method in Python. "
   ]
  },
  {
   "cell_type": "code",
   "execution_count": 4,
   "id": "cf81c20b-c261-4509-8b9f-05192415a3c4",
   "metadata": {},
   "outputs": [],
   "source": [
    "lst=[2, 4, 6, 8, 10, 12, 14, 16,18, 20]"
   ]
  },
  {
   "cell_type": "code",
   "execution_count": 5,
   "id": "fedea270-0061-4372-850b-3b9ed3e2292a",
   "metadata": {},
   "outputs": [
    {
     "data": {
      "text/plain": [
       "[2, 4, 6, 8, 10, 12, 14, 16, 18, 20]"
      ]
     },
     "execution_count": 5,
     "metadata": {},
     "output_type": "execute_result"
    }
   ],
   "source": [
    "lst"
   ]
  },
  {
   "cell_type": "code",
   "execution_count": 8,
   "id": "771b104b-12d3-4126-8348-ce622b5f4c80",
   "metadata": {},
   "outputs": [
    {
     "name": "stdout",
     "output_type": "stream",
     "text": [
      "2\n",
      "4\n",
      "6\n",
      "8\n",
      "10\n"
     ]
    }
   ],
   "source": [
    "it =iter(lst)\n",
    "print(next(it))\n",
    "print(next(it))\n",
    "print(next(it))\n",
    "print(next(it))\n",
    "print(next(it))"
   ]
  },
  {
   "cell_type": "code",
   "execution_count": null,
   "id": "a7952897-a4d6-41a3-82b1-bbae9a4c22fa",
   "metadata": {},
   "outputs": [],
   "source": [
    "We can use __next__() method also for iteration."
   ]
  },
  {
   "cell_type": "markdown",
   "id": "b23fdc03-1938-401f-aa14-712b9abe585e",
   "metadata": {},
   "source": [
    "### Q4. What is a generator function in python? Why yield keyword is used? Give an example of a generator function."
   ]
  },
  {
   "cell_type": "code",
   "execution_count": null,
   "id": "db6e1e74-cb81-4761-ab47-c05882ca32f8",
   "metadata": {},
   "outputs": [],
   "source": [
    "Generators are that function which are useful when we want to produce a large sequence of values, but we don't\n",
    "want to store all of them in memory at once."
   ]
  },
  {
   "cell_type": "code",
   "execution_count": null,
   "id": "5529e247-494c-4e97-b35e-93319f00b5f6",
   "metadata": {},
   "outputs": [],
   "source": [
    "The yield keyword in Python controls the flow of a generator function. This is similar to a return statement\n",
    "which is used for returning values in Python."
   ]
  },
  {
   "cell_type": "code",
   "execution_count": 17,
   "id": "cc8ac6f4-e872-4d7f-9da6-74053ec663ae",
   "metadata": {},
   "outputs": [],
   "source": [
    "def number(a):\n",
    "    for i in range(a):\n",
    "        yield a\n",
    "        a=a+1"
   ]
  },
  {
   "cell_type": "code",
   "execution_count": 18,
   "id": "ce3b9b56-5523-453b-b0cc-e43022fd2ec6",
   "metadata": {},
   "outputs": [
    {
     "data": {
      "text/plain": [
       "<generator object number at 0x7fd79846e880>"
      ]
     },
     "execution_count": 18,
     "metadata": {},
     "output_type": "execute_result"
    }
   ],
   "source": [
    "number(5)"
   ]
  },
  {
   "cell_type": "code",
   "execution_count": 19,
   "id": "4c5edabe-ceec-4bb0-bbac-ad83f05380a6",
   "metadata": {},
   "outputs": [
    {
     "name": "stdout",
     "output_type": "stream",
     "text": [
      "5\n",
      "6\n",
      "7\n",
      "8\n",
      "9\n"
     ]
    }
   ],
   "source": [
    "for i in number(5):\n",
    "    print(i)"
   ]
  },
  {
   "cell_type": "markdown",
   "id": "21aa7379-dea8-4c15-a42e-9b3950365f2b",
   "metadata": {},
   "source": [
    "### Q5. Create a generator function for prime numbers less than 1000. Use the next() method to print the first 20 prime numbers."
   ]
  },
  {
   "cell_type": "code",
   "execution_count": 21,
   "id": "3fc480a7-7688-436d-a0ac-7aa2d6fdb0fe",
   "metadata": {},
   "outputs": [
    {
     "name": "stdout",
     "output_type": "stream",
     "text": [
      "2 \n",
      "3 \n",
      "5 \n",
      "7 \n",
      "11 \n",
      "13 \n",
      "17 \n",
      "19 \n",
      "23 \n",
      "29 \n",
      "31 \n",
      "37 \n",
      "41 \n",
      "43 \n",
      "47 \n",
      "53 \n",
      "59 \n",
      "61 \n",
      "67 \n",
      "71 \n",
      "73 \n",
      "79 \n",
      "83 \n",
      "89 \n",
      "97\n"
     ]
    }
   ],
   "source": [
    "def is_prime(n):\n",
    "    status = True\n",
    "    if n < 2:\n",
    "        status = False\n",
    "    else:\n",
    "        for i in range(2,n):\n",
    "            if n % i == 0:\n",
    "                status = False\n",
    "    return status\n",
    "\n",
    "for n in range(1,101):\n",
    "    if is_prime(n):\n",
    "        if n==97:\n",
    "            print(n)\n",
    "        else:\n",
    "            print(n,\"\")"
   ]
  },
  {
   "cell_type": "code",
   "execution_count": 22,
   "id": "13cbb617-998d-4bde-bdaa-e0d37605e5e3",
   "metadata": {},
   "outputs": [],
   "source": [
    "## Example of using next() method to print the first 20 prime number."
   ]
  },
  {
   "cell_type": "code",
   "execution_count": null,
   "id": "250ab64b-144c-4085-8f44-53a1ec641bdf",
   "metadata": {},
   "outputs": [],
   "source": [
    "primes=iter(is_prime())\n"
   ]
  }
 ],
 "metadata": {
  "kernelspec": {
   "display_name": "Python 3 (ipykernel)",
   "language": "python",
   "name": "python3"
  },
  "language_info": {
   "codemirror_mode": {
    "name": "ipython",
    "version": 3
   },
   "file_extension": ".py",
   "mimetype": "text/x-python",
   "name": "python",
   "nbconvert_exporter": "python",
   "pygments_lexer": "ipython3",
   "version": "3.10.8"
  }
 },
 "nbformat": 4,
 "nbformat_minor": 5
}
